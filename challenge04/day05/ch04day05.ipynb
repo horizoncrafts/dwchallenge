{
 "cells": [
  {
   "cell_type": "code",
   "execution_count": 20,
   "metadata": {},
   "outputs": [],
   "source": [
    "import numpy as np\n",
    "import pandas as pd\n",
    "\n",
    "from gensim.models import Doc2Vec\n",
    "from gensim.models.doc2vec import TaggedDocument\n",
    "from gensim.utils import simple_preprocess\n",
    "\n",
    "from gensim.models.phrases import Phraser, Phrases"
   ]
  },
  {
   "cell_type": "markdown",
   "metadata": {},
   "source": [
    "## data"
   ]
  },
  {
   "cell_type": "code",
   "execution_count": 14,
   "metadata": {},
   "outputs": [],
   "source": [
    "df = pd.read_csv('/data/notebooks/challenge04/day04/data/job_ofer.csv')"
   ]
  },
  {
   "cell_type": "code",
   "execution_count": 16,
   "metadata": {},
   "outputs": [
    {
     "data": {
      "text/plain": [
       "(36109, 8)"
      ]
     },
     "execution_count": 16,
     "metadata": {},
     "output_type": "execute_result"
    }
   ],
   "source": [
    "df.shape"
   ]
  },
  {
   "cell_type": "code",
   "execution_count": 19,
   "metadata": {},
   "outputs": [],
   "source": [
    "def prepare_corpus(corpus, bigram):\n",
    "    for sentence in corpus:\n",
    "        yield bigram[sentence] + sentence"
   ]
  },
  {
   "cell_type": "code",
   "execution_count": 17,
   "metadata": {},
   "outputs": [],
   "source": [
    "title_corpus = df['title'].map(simple_preprocess)"
   ]
  },
  {
   "cell_type": "markdown",
   "metadata": {},
   "source": [
    "## phrasing"
   ]
  },
  {
   "cell_type": "code",
   "execution_count": 18,
   "metadata": {},
   "outputs": [],
   "source": [
    "title_bigram = Phraser( Phrases(title_corpus, min_count=2, threshold=2))"
   ]
  },
  {
   "cell_type": "code",
   "execution_count": 39,
   "metadata": {},
   "outputs": [],
   "source": [
    "title_corpus_phrased = prepare_corpus(title_corpus, title_bigram)"
   ]
  },
  {
   "cell_type": "markdown",
   "metadata": {},
   "source": [
    "## tagging"
   ]
  },
  {
   "cell_type": "code",
   "execution_count": 40,
   "metadata": {},
   "outputs": [],
   "source": [
    "title_corpus_tagged = [TaggedDocument(words=sentence, tags=[i]) for i, sentence in enumerate(title_corpus_phrased)]"
   ]
  },
  {
   "cell_type": "markdown",
   "metadata": {},
   "source": [
    "## model"
   ]
  },
  {
   "cell_type": "code",
   "execution_count": 65,
   "metadata": {},
   "outputs": [],
   "source": [
    "title_model = Doc2Vec(vector_size=300, window_size=1, min_count=2)\n",
    "title_model.build_vocab(title_corpus_tagged)"
   ]
  },
  {
   "cell_type": "code",
   "execution_count": 66,
   "metadata": {},
   "outputs": [
    {
     "name": "stdout",
     "output_type": "stream",
     "text": [
      "CPU times: user 25.1 s, sys: 19 s, total: 44 s\n",
      "Wall time: 32.2 s\n"
     ]
    }
   ],
   "source": [
    "%time title_model.train(title_corpus_tagged, total_examples=title_model.corpus_count, epochs=10)"
   ]
  },
  {
   "cell_type": "code",
   "execution_count": 97,
   "metadata": {},
   "outputs": [],
   "source": [
    "def list_similars(model, tagged_corpus, tag, n=5):\n",
    "    print(f'Similars to {tag}, {tagged_corpus[tag]}:\\n')\n",
    "    for sim_tag, prob in model.docvecs.most_similar(tag):\n",
    "        title = df[ df.index==sim_tag].title\n",
    "        print(str(title).split('\\n')[0])"
   ]
  },
  {
   "cell_type": "code",
   "execution_count": 98,
   "metadata": {},
   "outputs": [
    {
     "name": "stdout",
     "output_type": "stream",
     "text": [
      "Similars to 0, TaggedDocument(['machine_learning', 'engineer', 'machine', 'learning', 'engineer'], [0]):\n",
      "\n",
      "446    Senior Machine Learning Engineer (Relocate to ...\n",
      "14076    Senior Data Pipeline Engineer\n",
      "19590    Senior Computer Vision R&D Engineer\n",
      "362    Senior Deep Learning Engineer\n",
      "12266    Senior Computer Vision R&D Engineer\n",
      "9442    Machine Learning and Big Data Researcher - Roc...\n",
      "357    Software Development Engineer - AWS AI Deep Le...\n",
      "9556    NLP Engineer\n",
      "10611    AI Programmer\n",
      "10148    Artificial Intelligence Engineer (1744)\n"
     ]
    }
   ],
   "source": [
    "list_similars(title_model, title_corpus_tagged, 0)"
   ]
  },
  {
   "cell_type": "code",
   "execution_count": 96,
   "metadata": {},
   "outputs": [
    {
     "name": "stdout",
     "output_type": "stream",
     "text": [
      "Similars to 9658, TaggedDocument(['data', 'engineer', 'data', 'engineer'], [9658]):\n",
      "\n",
      "2095    Software Backend Engineer\n",
      "3022    Aii Sales Manager - Wichita, KS\n",
      "2589    Industrial Air Sales Manager - Appleton, WI wi...\n",
      "13356    iOS Software Engineer (1596)\n",
      "26174    Senior Software Engineer - Microservices\n",
      "15657    BAT/Rewards Chromium Engineer\n",
      "341    Machine Learning Engineer\n",
      "33933    Northern Maine: OBGYN Opportunity\n",
      "384    Machine Learning Engineer\n",
      "8440    Route Delivery Driver CDL\n"
     ]
    }
   ],
   "source": [
    "list_similars(title_model, title_corpus_tagged, 9658)"
   ]
  },
  {
   "cell_type": "code",
   "execution_count": null,
   "metadata": {},
   "outputs": [],
   "source": []
  }
 ],
 "metadata": {
  "kernelspec": {
   "display_name": "Python 3",
   "language": "python",
   "name": "python3"
  },
  "language_info": {
   "codemirror_mode": {
    "name": "ipython",
    "version": 3
   },
   "file_extension": ".py",
   "mimetype": "text/x-python",
   "name": "python",
   "nbconvert_exporter": "python",
   "pygments_lexer": "ipython3",
   "version": "3.7.3"
  }
 },
 "nbformat": 4,
 "nbformat_minor": 2
}
