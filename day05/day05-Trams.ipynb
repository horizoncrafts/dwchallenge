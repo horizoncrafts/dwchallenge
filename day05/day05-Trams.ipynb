{
 "cells": [
  {
   "cell_type": "code",
   "execution_count": 6,
   "metadata": {},
   "outputs": [],
   "source": [
    "import pandas as pd\n",
    "import numpy as np\n",
    "\n",
    "from sklearn.tree import DecisionTreeRegressor\n",
    "from sklearn.ensemble import RandomForestRegressor\n",
    "from sklearn.model_selection import cross_val_score\n",
    "\n",
    "%matplotlib inline"
   ]
  },
  {
   "cell_type": "code",
   "execution_count": 10,
   "metadata": {
    "scrolled": false
   },
   "outputs": [
    {
     "data": {
      "text/plain": [
       "<bound method NDFrame.head of        index           time_stamp  stop                         stopName  \\\n",
       "0          1  2018-07-23 06:00:45   378                       Os.Piastów   \n",
       "1          1  2018-07-23 06:00:47   612                         Borsucza   \n",
       "2          1  2018-07-23 06:00:48   572                           Smolki   \n",
       "3          1  2018-07-23 06:00:49   319                          Jubilat   \n",
       "4          1  2018-07-23 06:00:49   322                      Filharmonia   \n",
       "5          1  2018-07-23 06:00:50   325                            Wawel   \n",
       "6          1  2018-07-23 06:00:50  1360         Plac Wszystkich Świętych   \n",
       "7          1  2018-07-23 06:00:51   363                     Hala Targowa   \n",
       "8          1  2018-07-23 06:00:52    78                         Batorego   \n",
       "9          1  2018-07-23 06:00:52    77                   Teatr Bagatela   \n",
       "10         1  2018-07-23 06:00:53   131                   Dworzec Główny   \n",
       "11         1  2018-07-23 06:00:54   715                      Nowosądecka   \n",
       "12         1  2018-07-23 06:00:54   630                      Bieżanowska   \n",
       "13         1  2018-07-23 06:00:54   682                 Prokocim Szpital   \n",
       "14         1  2018-07-23 06:00:55   624                            Kabel   \n",
       "15         1  2018-07-23 06:00:55   623                         Dworcowa   \n",
       "16         1  2018-07-23 06:00:56   561                           Lipska   \n",
       "17         1  2018-07-23 06:00:56  1154                         Zabłocie   \n",
       "18         1  2018-07-23 06:00:57   567                     Kuklińskiego   \n",
       "19         1  2018-07-23 06:00:57   368                        Fabryczna   \n",
       "20         1  2018-07-23 06:00:57   125                  Rondo Mogilskie   \n",
       "21         1  2018-07-23 06:00:59   112                Stella-Sawickiego   \n",
       "22         1  2018-07-23 06:00:59   409                        Centralna   \n",
       "23         1  2018-07-23 06:00:59   407                          Czyżyny   \n",
       "24         1  2018-07-23 06:01:02  3037                         Cienista   \n",
       "25         1  2018-07-23 06:01:02   462            Agencja Kraków Wschód   \n",
       "26         2  2018-07-23 06:01:05   378                       Os.Piastów   \n",
       "27         2  2018-07-23 06:01:06  2821                   Łagiewniki ZUS   \n",
       "28         2  2018-07-23 06:01:06    84                        Biprostal   \n",
       "29         2  2018-07-23 06:01:07  2688                      Norymberska   \n",
       "...      ...                  ...   ...                              ...   \n",
       "71487   2829  2018-07-23 23:57:57   408                 Rondo Czyżyńskie   \n",
       "71488   2829  2018-07-23 23:57:59  2685                        Jarzębiny   \n",
       "71489   2831  2018-07-23 23:58:24  2690                        Kampus UJ   \n",
       "71490   2831  2018-07-23 23:58:43  2811                 Muzeum Lotnictwa   \n",
       "71491   2831  2018-07-23 23:58:44   377                 Os.Złotego Wieku   \n",
       "71492   2832  2018-07-23 23:58:53   922                       Łagiewniki   \n",
       "71493   2833  2018-07-23 23:59:29  2538                       Miśnieńska   \n",
       "71494   2833  2018-07-23 23:59:30   413                      Os.Kolorowe   \n",
       "71495   2833  2018-07-23 23:59:32   449                          Bardosa   \n",
       "71496   2834  2018-07-23 23:59:37  2691                      Chmieleniec   \n",
       "71497   2834  2018-07-23 23:59:38  2821                   Łagiewniki ZUS   \n",
       "71498   2834  2018-07-23 23:59:38   615  Sanktuarium Bożego Miłosierdzia   \n",
       "71499   2834  2018-07-23 23:59:57   113                              AWF   \n",
       "71500   2834  2018-07-23 23:59:59  2548                      Suche Stawy   \n",
       "71501   2835  2018-07-24 00:00:13   681                           Teligi   \n",
       "71502   2838  2018-07-24 00:01:20  2582                    Nowy Prokocim   \n",
       "71503   2838  2018-07-24 00:01:25   112                Stella-Sawickiego   \n",
       "71504   2839  2018-07-24 00:01:49  2744     Plac Centralny im. R.Reagana   \n",
       "71505   2841  2018-07-24 00:02:25   679                     Ćwiklińskiej   \n",
       "71506   2841  2018-07-24 00:02:30   407                          Czyżyny   \n",
       "71507   2842  2018-07-24 00:02:51   408                 Rondo Czyżyńskie   \n",
       "71508   2842  2018-07-24 00:02:52   423                           Struga   \n",
       "71509   2850  2018-07-24 00:06:09   746                           Solvay   \n",
       "71510   2850  2018-07-24 00:06:24   413                      Os.Kolorowe   \n",
       "71511   2853  2018-07-24 00:07:11   824                  Borek Fałęcki I   \n",
       "71512   2857  2018-07-24 00:08:50  2744     Plac Centralny im. R.Reagana   \n",
       "71513   2861  2018-07-24 00:10:18   424                    Os.Na Skarpie   \n",
       "71514   2866  2018-07-24 00:12:11   429                       Klasztorna   \n",
       "71515   2870  2018-07-24 00:13:34  2548                      Suche Stawy   \n",
       "71516   2877  2018-07-24 00:16:01   449                          Bardosa   \n",
       "\n",
       "       number          direction          plannedTime     vehicleId  \\\n",
       "0          21       Kopiec Wandy  2018-07-23 05:59:00           NaN   \n",
       "1          22          Walcownia  2018-07-23 06:00:00  6.352185e+18   \n",
       "2          11  Czerwone Maki P+R  2018-07-23 06:00:00  6.352185e+18   \n",
       "3           1         Wzgórza K.  2018-07-23 05:59:00           NaN   \n",
       "4           8     Bronowice Małe  2018-07-23 06:01:00  6.352185e+18   \n",
       "5          10       Kopiec Wandy  2018-07-23 05:59:00           NaN   \n",
       "6           1           Salwator  2018-07-23 05:59:00           NaN   \n",
       "7           1           Salwator  2018-07-23 06:01:00  6.352185e+18   \n",
       "8          24     Bronowice Małe  2018-07-23 06:00:00  6.352185e+18   \n",
       "9          20       Mały Płaszów  2018-07-23 06:01:00  6.352185e+18   \n",
       "10         52         Os.Piastów  2018-07-23 06:00:00  6.352185e+18   \n",
       "11         24     Bronowice Małe  2018-07-23 06:00:00  6.352185e+18   \n",
       "12          9      Mistrzejowice  2018-07-23 05:59:00           NaN   \n",
       "13         13          Bronowice  2018-07-23 06:00:00  6.352185e+18   \n",
       "14         24      Kurdwanów P+R  2018-07-23 06:00:00  6.352185e+18   \n",
       "15          3  Nowy Bieżanów P+R  2018-07-23 06:02:00  6.352185e+18   \n",
       "16         50    Krowodrza Górka  2018-07-23 05:59:00  6.352185e+18   \n",
       "17         20        Cichy Kącik  2018-07-23 05:58:00  6.352185e+18   \n",
       "18          9  Nowy Bieżanów P+R  2018-07-23 05:59:00           NaN   \n",
       "19         14     Bronowice Małe  2018-07-23 06:00:00  6.352185e+18   \n",
       "20         50    Krowodrza Górka  2018-07-23 06:00:00  6.352185e+18   \n",
       "21          9  Nowy Bieżanów P+R  2018-07-23 06:01:00  6.352185e+18   \n",
       "22         22      Borek Fałęcki  2018-07-23 06:00:00  6.352185e+18   \n",
       "23          5         Wzgórza K.  2018-07-23 06:01:00  6.352185e+18   \n",
       "24          1         Wzgórza K.  2018-07-23 05:58:00  6.352185e+18   \n",
       "25         22      Borek Fałęcki  2018-07-23 06:01:00  6.352185e+18   \n",
       "26         52  Czerwone Maki P+R  2018-07-23 06:01:00  6.352185e+18   \n",
       "27         19      Borek Fałęcki  2018-07-23 06:01:00  6.352185e+18   \n",
       "28         13  Nowy Bieżanów P+R  2018-07-23 06:01:00  6.352185e+18   \n",
       "29         11       Mały Płaszów  2018-07-23 06:00:00  6.352185e+18   \n",
       "...       ...                ...                  ...           ...   \n",
       "71487      22           Kombinat  2018-07-23 23:57:00  6.352185e+18   \n",
       "71488       1         Wzgórza K.  2018-07-23 23:58:00  6.352185e+18   \n",
       "71489      18  Czerwone Maki P+R  2018-07-23 23:57:00  6.352185e+18   \n",
       "71490      10       Kopiec Wandy  2018-07-23 23:57:00  6.352185e+18   \n",
       "71491      14      Mistrzejowice  2018-07-23 23:56:00  6.352185e+18   \n",
       "71492       8      Borek Fałęcki  2018-07-23 23:56:00  6.352185e+18   \n",
       "71493      14      Mistrzejowice  2018-07-23 23:57:00  6.352185e+18   \n",
       "71494      22           Kombinat  2018-07-23 23:58:00  6.352185e+18   \n",
       "71495      10       Kopiec Wandy  2018-07-23 23:55:00  6.352185e+18   \n",
       "71496      18  Czerwone Maki P+R  2018-07-23 23:58:00  6.352185e+18   \n",
       "71497       8      Borek Fałęcki  2018-07-23 23:58:00  6.352185e+18   \n",
       "71498       8      Borek Fałęcki  2018-07-23 23:59:00  6.352185e+18   \n",
       "71499      10       Kopiec Wandy  2018-07-23 23:59:00  6.352185e+18   \n",
       "71500      10       Kopiec Wandy  2018-07-23 23:53:00  6.352185e+18   \n",
       "71501      13  Nowy Bieżanów P+R  2018-07-24 00:01:00  6.352185e+18   \n",
       "71502      13  Nowy Bieżanów P+R  2018-07-24 00:02:00  6.352185e+18   \n",
       "71503      10       Kopiec Wandy  2018-07-24 00:00:00  6.352185e+18   \n",
       "71504      22           Kombinat  2018-07-24 00:01:00  6.352185e+18   \n",
       "71505      13  Nowy Bieżanów P+R  2018-07-24 00:04:00  6.352185e+18   \n",
       "71506      10       Kopiec Wandy  2018-07-24 00:01:00  6.352185e+18   \n",
       "71507      10       Kopiec Wandy  2018-07-24 00:04:00  6.352185e+18   \n",
       "71508      22           Kombinat  2018-07-24 00:03:00  6.352185e+18   \n",
       "71509       8      Borek Fałęcki  2018-07-24 00:01:00  6.352185e+18   \n",
       "71510      10       Kopiec Wandy  2018-07-24 00:05:00  6.352185e+18   \n",
       "71511       8      Borek Fałęcki  2018-07-24 00:02:00  6.352185e+18   \n",
       "71512      10       Kopiec Wandy  2018-07-24 00:08:00  6.352185e+18   \n",
       "71513      10       Kopiec Wandy  2018-07-24 00:09:00  6.352185e+18   \n",
       "71514      10       Kopiec Wandy  2018-07-24 00:11:00  6.352185e+18   \n",
       "71515      10       Kopiec Wandy  2018-07-24 00:13:00  6.352185e+18   \n",
       "71516      10       Kopiec Wandy  2018-07-24 00:15:00  6.352185e+18   \n",
       "\n",
       "                    tripId     status  delay  seq_num  \n",
       "0      6351558574044883205    PLANNED      1      1.0  \n",
       "1      6351558574044899587   STOPPING      0      7.0  \n",
       "2      6351558574044670211   STOPPING      0     10.0  \n",
       "3      6351558574044363010    PLANNED      1      3.0  \n",
       "4      6351558574044592386   STOPPING      0     15.0  \n",
       "5      6351558574044641539    PLANNED      1      8.0  \n",
       "6      6351558574044375298    PLANNED      1     27.0  \n",
       "7      6351558574044379394   STOPPING      0     24.0  \n",
       "8      6351558574044948738   STOPPING      0     19.0  \n",
       "9      6351558574044846339  PREDICTED      0      7.0  \n",
       "10     6351558574045030659   STOPPING      0     17.0  \n",
       "11     6351558574044965123   STOPPING      0      3.0  \n",
       "12     6351558574044604675    PLANNED      1      8.0  \n",
       "13     6351558574044702978   STOPPING      0      5.0  \n",
       "14     6351558574044924163  PREDICTED      0     22.0  \n",
       "15     6351558574044424451  PREDICTED      0     15.0  \n",
       "16     6351558574045022467   STOPPING      1      6.0  \n",
       "17     6351558574044862722  PREDICTED      2      7.0  \n",
       "18     6351558574044612866    PLANNED      1     24.0  \n",
       "19     6351558574044739842   STOPPING      0     20.0  \n",
       "20     6351558574045018371   STOPPING      0     12.0  \n",
       "21     6351558574044616962   STOPPING      0     14.0  \n",
       "22     6351558574044911874   STOPPING      0     10.0  \n",
       "23     6351558574044498179   STOPPING      0     14.0  \n",
       "24     6351558574044399874  PREDICTED      3     26.0  \n",
       "25     6351558574044915971  PREDICTED      0      2.0  \n",
       "26     6351558574045075714   STOPPING      0      1.0  \n",
       "27     6351558574044829954   STOPPING      0     16.0  \n",
       "28     6351558574044682499   STOPPING      0      4.0  \n",
       "29     6351558574044662019   STOPPING      1      5.0  \n",
       "...                    ...        ...    ...      ...  \n",
       "71487  6351558574044911887  PREDICTED      0      NaN  \n",
       "71488  6351558574044403985   STOPPING      0     30.0  \n",
       "71489  6351558574044809493   STOPPING      1     24.0  \n",
       "71490  6351558574044641557  PREDICTED      1     16.0  \n",
       "71491  6351558574044743951  PREDICTED      2     36.0  \n",
       "71492  6351558574044588309  PREDICTED      2     22.0  \n",
       "71493  6351558574044743951  PREDICTED      2     37.0  \n",
       "71494  6351558574044911887  PREDICTED      1      NaN  \n",
       "71495  6351558574044637461  PREDICTED      4     26.0  \n",
       "71496  6351558574044809493   STOPPING      1     25.0  \n",
       "71497  6351558574044588309  PREDICTED      1     23.0  \n",
       "71498  6351558574044588309  PREDICTED      0     24.0  \n",
       "71499  6351558574044641557   STOPPING      0     17.0  \n",
       "71500  6351558574044637461   STOPPING      6     25.0  \n",
       "71501  6351558574044715284   STOPPING      0     25.0  \n",
       "71502  6351558574044715284   STOPPING      0     26.0  \n",
       "71503  6351558574044641557   STOPPING      1     18.0  \n",
       "71504  6351558574044911887  PREDICTED      0      NaN  \n",
       "71505  6351558574044715284   STOPPING      0     27.0  \n",
       "71506  6351558574044641557   STOPPING      1     19.0  \n",
       "71507  6351558574044641557  PREDICTED      0     20.0  \n",
       "71508  6351558574044911887  PREDICTED      0      NaN  \n",
       "71509  6351558574044588309  PREDICTED      5     25.0  \n",
       "71510  6351558574044641557  PREDICTED      1     21.0  \n",
       "71511  6351558574044588309  PREDICTED      5     26.0  \n",
       "71512  6351558574044641557   STOPPING      0     22.0  \n",
       "71513  6351558574044641557   STOPPING      1     23.0  \n",
       "71514  6351558574044641557   STOPPING      1     24.0  \n",
       "71515  6351558574044641557  PREDICTED      0     25.0  \n",
       "71516  6351558574044641557   STOPPING      1     26.0  \n",
       "\n",
       "[71517 rows x 12 columns]>"
      ]
     },
     "execution_count": 10,
     "metadata": {},
     "output_type": "execute_result"
    }
   ],
   "source": [
    "df = pd.read_csv('https://raw.githubusercontent.com/aczepielik/KRKtram/master/reports/report_07-23.csv')\n",
    "\n",
    "df.head"
   ]
  },
  {
   "cell_type": "code",
   "execution_count": 15,
   "metadata": {},
   "outputs": [
    {
     "data": {
      "text/plain": [
       "0     0.426905\n",
       "1     0.344715\n",
       "2     0.123509\n",
       "3     0.055987\n",
       "4     0.025421\n",
       "5     0.011410\n",
       "6     0.004852\n",
       "7     0.002657\n",
       "8     0.001189\n",
       "9     0.000867\n",
       "10    0.000587\n",
       "14    0.000503\n",
       "12    0.000475\n",
       "11    0.000350\n",
       "13    0.000336\n",
       "15    0.000154\n",
       "16    0.000042\n",
       "19    0.000028\n",
       "18    0.000014\n",
       "Name: delay, dtype: float64"
      ]
     },
     "execution_count": 15,
     "metadata": {},
     "output_type": "execute_result"
    }
   ],
   "source": [
    "df.delay.value_counts(normalize=True)"
   ]
  },
  {
   "cell_type": "code",
   "execution_count": 16,
   "metadata": {},
   "outputs": [
    {
     "data": {
      "text/plain": [
       "<matplotlib.axes._subplots.AxesSubplot at 0x7f7aa16cb4e0>"
      ]
     },
     "execution_count": 16,
     "metadata": {},
     "output_type": "execute_result"
    },
    {
     "data": {
      "image/png": "[encoded data removed]",
      "text/plain": [
       "<Figure size 432x288 with 1 Axes>"
      ]
     },
     "metadata": {
      "needs_background": "light"
     },
     "output_type": "display_data"
    }
   ],
   "source": [
    "df.delay.hist(bins=15)"
   ]
  },
  {
   "cell_type": "code",
   "execution_count": 17,
   "metadata": {},
   "outputs": [
    {
     "data": {
      "text/plain": [
       "count    71517.000000\n",
       "mean         1.014039\n",
       "std          1.357324\n",
       "min          0.000000\n",
       "25%          0.000000\n",
       "50%          1.000000\n",
       "75%          1.000000\n",
       "max         19.000000\n",
       "Name: delay, dtype: float64"
      ]
     },
     "execution_count": 17,
     "metadata": {},
     "output_type": "execute_result"
    }
   ],
   "source": [
    "df.delay.describe()"
   ]
  },
  {
   "cell_type": "code",
   "execution_count": 18,
   "metadata": {},
   "outputs": [
    {
     "data": {
      "text/plain": [
       "Index(['index', 'time_stamp', 'stop', 'stopName', 'number', 'direction',\n",
       "       'plannedTime', 'vehicleId', 'tripId', 'status', 'delay', 'seq_num'],\n",
       "      dtype='object')"
      ]
     },
     "execution_count": 18,
     "metadata": {},
     "output_type": "execute_result"
    }
   ],
   "source": [
    "df.columns"
   ]
  },
  {
   "cell_type": "code",
   "execution_count": 61,
   "metadata": {},
   "outputs": [
    {
     "data": {
      "text/plain": [
       "(-48.90991823408615, 2.5265969943612703)"
      ]
     },
     "execution_count": 61,
     "metadata": {},
     "output_type": "execute_result"
    }
   ],
   "source": [
    "df['delay_secs'] = df['delay'].map(lambda x: x*60)\n",
    "df['direction_cat'] = df['direction'].factorize()[0]\n",
    "df['vehicleId'].fillna(-1, inplace=True)\n",
    "df['seq_num'].fillna(-1, inplace=True)\n",
    "\n",
    "df['plannedTime_dt']=pd.to_datetime( df['plannedTime'])\n",
    "df['hour'] = df['plannedTime_dt'].dt.hour\n",
    "df['minute'] = df['plannedTime_dt'].dt.minute\n",
    "\n",
    "\n",
    "df['number_direction_id'] = df.apply(lambda x: '{} {}'.format(x['number'],x['direction']), axis=1).factorize()[0]\n",
    "df['stop_direction_id'] = df.apply(lambda x: '{} {}'.format(x['stop'],x['direction']), axis=1).factorize()[0]\n",
    "\n",
    "\n",
    "X = df[ [ 'number', 'stop', 'direction_cat', 'vehicleId', 'seq_num', 'number_direction_id', 'stop_direction_id']].values\n",
    "y = df[ 'delay_secs'].values\n",
    "\n",
    "model = DecisionTreeRegressor(max_depth=10)\n",
    "scores = cross_val_score(model, X, y, cv=3, scoring='neg_mean_absolute_error')\n",
    "np.mean(scores), np.std(scores)"
   ]
  },
  {
   "cell_type": "code",
   "execution_count": 74,
   "metadata": {},
   "outputs": [
    {
     "data": {
      "text/html": [
       "<div>\n",
       "<style scoped>\n",
       "    .dataframe tbody tr th:only-of-type {\n",
       "        vertical-align: middle;\n",
       "    }\n",
       "\n",
       "    .dataframe tbody tr th {\n",
       "        vertical-align: top;\n",
       "    }\n",
       "\n",
       "    .dataframe thead th {\n",
       "        text-align: right;\n",
       "    }\n",
       "</style>\n",
       "<table border=\"1\" class=\"dataframe\">\n",
       "  <thead>\n",
       "    <tr style=\"text-align: right;\">\n",
       "      <th></th>\n",
       "      <th>minute</th>\n",
       "    </tr>\n",
       "  </thead>\n",
       "  <tbody>\n",
       "    <tr>\n",
       "      <th>0</th>\n",
       "      <td>59</td>\n",
       "    </tr>\n",
       "    <tr>\n",
       "      <th>1</th>\n",
       "      <td>0</td>\n",
       "    </tr>\n",
       "    <tr>\n",
       "      <th>2</th>\n",
       "      <td>0</td>\n",
       "    </tr>\n",
       "    <tr>\n",
       "      <th>3</th>\n",
       "      <td>59</td>\n",
       "    </tr>\n",
       "    <tr>\n",
       "      <th>4</th>\n",
       "      <td>1</td>\n",
       "    </tr>\n",
       "  </tbody>\n",
       "</table>\n",
       "</div>"
      ],
      "text/plain": [
       "   minute\n",
       "0      59\n",
       "1       0\n",
       "2       0\n",
       "3      59\n",
       "4       1"
      ]
     },
     "execution_count": 74,
     "metadata": {},
     "output_type": "execute_result"
    }
   ],
   "source": [
    "df[['minute']].head()"
   ]
  },
  {
   "cell_type": "code",
   "execution_count": null,
   "metadata": {},
   "outputs": [],
   "source": []
  },
  {
   "cell_type": "code",
   "execution_count": null,
   "metadata": {},
   "outputs": [],
   "source": []
  },
  {
   "cell_type": "code",
   "execution_count": 54,
   "metadata": {},
   "outputs": [
    {
     "data": {
      "text/plain": [
       "0             21 Kopiec Wandy\n",
       "1                22 Walcownia\n",
       "2        11 Czerwone Maki P+R\n",
       "3                1 Wzgórza K.\n",
       "4            8 Bronowice Małe\n",
       "5             10 Kopiec Wandy\n",
       "6                  1 Salwator\n",
       "7                  1 Salwator\n",
       "8           24 Bronowice Małe\n",
       "9             20 Mały Płaszów\n",
       "10              52 Os.Piastów\n",
       "11          24 Bronowice Małe\n",
       "12            9 Mistrzejowice\n",
       "13               13 Bronowice\n",
       "14           24 Kurdwanów P+R\n",
       "15        3 Nowy Bieżanów P+R\n",
       "16         50 Krowodrza Górka\n",
       "17             20 Cichy Kącik\n",
       "18        9 Nowy Bieżanów P+R\n",
       "19          14 Bronowice Małe\n",
       "20         50 Krowodrza Górka\n",
       "21        9 Nowy Bieżanów P+R\n",
       "22           22 Borek Fałęcki\n",
       "23               5 Wzgórza K.\n",
       "24               1 Wzgórza K.\n",
       "25           22 Borek Fałęcki\n",
       "26       52 Czerwone Maki P+R\n",
       "27           19 Borek Fałęcki\n",
       "28       13 Nowy Bieżanów P+R\n",
       "29            11 Mały Płaszów\n",
       "                 ...         \n",
       "71487             22 Kombinat\n",
       "71488            1 Wzgórza K.\n",
       "71489    18 Czerwone Maki P+R\n",
       "71490         10 Kopiec Wandy\n",
       "71491        14 Mistrzejowice\n",
       "71492         8 Borek Fałęcki\n",
       "71493        14 Mistrzejowice\n",
       "71494             22 Kombinat\n",
       "71495         10 Kopiec Wandy\n",
       "71496    18 Czerwone Maki P+R\n",
       "71497         8 Borek Fałęcki\n",
       "71498         8 Borek Fałęcki\n",
       "71499         10 Kopiec Wandy\n",
       "71500         10 Kopiec Wandy\n",
       "71501    13 Nowy Bieżanów P+R\n",
       "71502    13 Nowy Bieżanów P+R\n",
       "71503         10 Kopiec Wandy\n",
       "71504             22 Kombinat\n",
       "71505    13 Nowy Bieżanów P+R\n",
       "71506         10 Kopiec Wandy\n",
       "71507         10 Kopiec Wandy\n",
       "71508             22 Kombinat\n",
       "71509         8 Borek Fałęcki\n",
       "71510         10 Kopiec Wandy\n",
       "71511         8 Borek Fałęcki\n",
       "71512         10 Kopiec Wandy\n",
       "71513         10 Kopiec Wandy\n",
       "71514         10 Kopiec Wandy\n",
       "71515         10 Kopiec Wandy\n",
       "71516         10 Kopiec Wandy\n",
       "Length: 71517, dtype: object"
      ]
     },
     "execution_count": 54,
     "metadata": {},
     "output_type": "execute_result"
    }
   ],
   "source": [
    "df.apply(lambda x: '{} {}'.format(x['number'],x['direction']), axis=1)"
   ]
  },
  {
   "cell_type": "code",
   "execution_count": 59,
   "metadata": {},
   "outputs": [
    {
     "data": {
      "text/plain": [
       "2018-07-23 07:04:00    93\n",
       "2018-07-23 15:44:00    92\n",
       "2018-07-23 06:44:00    92\n",
       "2018-07-23 17:44:00    91\n",
       "2018-07-23 08:44:00    91\n",
       "2018-07-23 17:04:00    91\n",
       "2018-07-23 08:24:00    90\n",
       "2018-07-23 08:04:00    90\n",
       "2018-07-23 16:04:00    90\n",
       "2018-07-23 17:24:00    90\n",
       "2018-07-23 07:24:00    90\n",
       "2018-07-23 15:04:00    90\n",
       "2018-07-23 07:44:00    89\n",
       "2018-07-23 09:04:00    89\n",
       "2018-07-23 18:04:00    89\n",
       "2018-07-23 15:24:00    89\n",
       "2018-07-23 16:24:00    88\n",
       "2018-07-23 16:44:00    88\n",
       "2018-07-23 18:24:00    86\n",
       "2018-07-23 14:44:00    85\n",
       "2018-07-23 15:46:00    85\n",
       "2018-07-23 16:26:00    85\n",
       "2018-07-23 16:46:00    85\n",
       "2018-07-23 15:20:00    84\n",
       "2018-07-23 18:26:00    84\n",
       "2018-07-23 18:06:00    84\n",
       "2018-07-23 16:06:00    84\n",
       "2018-07-23 15:26:00    84\n",
       "2018-07-23 16:40:00    84\n",
       "2018-07-23 18:20:00    84\n",
       "                       ..\n",
       "2018-07-23 23:41:00    11\n",
       "2018-07-23 23:43:00    11\n",
       "2018-07-23 23:44:00    11\n",
       "2018-07-23 23:45:00    11\n",
       "2018-07-23 23:48:00     9\n",
       "2018-07-23 23:51:00     8\n",
       "2018-07-23 23:42:00     8\n",
       "2018-07-23 23:47:00     7\n",
       "2018-07-23 23:54:00     7\n",
       "2018-07-23 23:49:00     7\n",
       "2018-07-23 23:52:00     7\n",
       "2018-07-23 23:57:00     7\n",
       "2018-07-23 23:50:00     7\n",
       "2018-07-23 23:56:00     6\n",
       "2018-07-23 23:53:00     5\n",
       "2018-07-24 00:01:00     4\n",
       "2018-07-23 23:55:00     4\n",
       "2018-07-23 23:58:00     4\n",
       "2018-07-23 05:58:00     3\n",
       "2018-07-23 23:59:00     3\n",
       "2018-07-24 00:02:00     2\n",
       "2018-07-24 00:04:00     2\n",
       "2018-07-24 00:13:00     1\n",
       "2018-07-24 00:11:00     1\n",
       "2018-07-24 00:05:00     1\n",
       "2018-07-24 00:03:00     1\n",
       "2018-07-24 00:15:00     1\n",
       "2018-07-24 00:09:00     1\n",
       "2018-07-24 00:00:00     1\n",
       "2018-07-24 00:08:00     1\n",
       "Name: plannedTime, Length: 1093, dtype: int64"
      ]
     },
     "execution_count": 59,
     "metadata": {},
     "output_type": "execute_result"
    }
   ],
   "source": [
    "df.plannedTime.value_counts()"
   ]
  },
  {
   "cell_type": "code",
   "execution_count": null,
   "metadata": {},
   "outputs": [],
   "source": []
  },
  {
   "cell_type": "code",
   "execution_count": null,
   "metadata": {},
   "outputs": [],
   "source": []
  }
 ],
 "metadata": {
  "kernelspec": {
   "display_name": "Python 3",
   "language": "python",
   "name": "python3"
  },
  "language_info": {
   "codemirror_mode": {
    "name": "ipython",
    "version": 3
   },
   "file_extension": ".py",
   "mimetype": "text/x-python",
   "name": "python",
   "nbconvert_exporter": "python",
   "pygments_lexer": "ipython3",
   "version": "3.7.1"
  }
 },
 "nbformat": 4,
 "nbformat_minor": 2
}
