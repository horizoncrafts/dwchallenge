{
 "cells": [
  {
   "cell_type": "code",
   "execution_count": 3,
   "metadata": {},
   "outputs": [
    {
     "name": "stdout",
     "output_type": "stream",
     "text": [
      "Collecting package metadata (current_repodata.json): done\n",
      "Solving environment: done\n",
      "\n",
      "## Package Plan ##\n",
      "\n",
      "  environment location: /opt/anaconda3\n",
      "\n",
      "  added / updated specs:\n",
      "    - fbprophet\n",
      "\n",
      "\n",
      "The following packages will be downloaded:\n",
      "\n",
      "    package                    |            build\n",
      "    ---------------------------|-----------------\n",
      "    binutils_impl_linux-64-2.31.1|       h6176602_1         3.9 MB\n",
      "    binutils_linux-64-2.31.1   |       h6176602_9          10 KB  conda-forge\n",
      "    conda-4.7.12               |           py37_0         3.0 MB  conda-forge\n",
      "    convertdate-2.1.3          |          py_1000          30 KB  conda-forge\n",
      "    ephem-3.7.7.0              |   py37h516909a_0         756 KB  conda-forge\n",
      "    fbprophet-0.5              |   py37he1b5a44_0         623 KB  conda-forge\n",
      "    gcc_impl_linux-64-7.3.0    |       habb00fd_1        73.2 MB  conda-forge\n",
      "    gcc_linux-64-7.3.0         |       h553295d_9          11 KB  conda-forge\n",
      "    gxx_impl_linux-64-7.3.0    |       hdf63c60_1        18.7 MB  conda-forge\n",
      "    gxx_linux-64-7.3.0         |       h553295d_9          11 KB  conda-forge\n",
      "    holidays-0.9.11            |             py_0          39 KB  conda-forge\n",
      "    lunardate-0.2.0            |             py_0          21 KB  conda-forge\n",
      "    pystan-2.19.0.0            |   py37h962f231_0        12.1 MB\n",
      "    ------------------------------------------------------------\n",
      "                                           Total:       112.4 MB\n",
      "\n",
      "The following NEW packages will be INSTALLED:\n",
      "\n",
      "  binutils_impl_lin~ pkgs/main/linux-64::binutils_impl_linux-64-2.31.1-h6176602_1\n",
      "  binutils_linux-64  conda-forge/linux-64::binutils_linux-64-2.31.1-h6176602_9\n",
      "  convertdate        conda-forge/noarch::convertdate-2.1.3-py_1000\n",
      "  ephem              conda-forge/linux-64::ephem-3.7.7.0-py37h516909a_0\n",
      "  fbprophet          conda-forge/linux-64::fbprophet-0.5-py37he1b5a44_0\n",
      "  gcc_impl_linux-64  conda-forge/linux-64::gcc_impl_linux-64-7.3.0-habb00fd_1\n",
      "  gcc_linux-64       conda-forge/linux-64::gcc_linux-64-7.3.0-h553295d_9\n",
      "  gxx_impl_linux-64  conda-forge/linux-64::gxx_impl_linux-64-7.3.0-hdf63c60_1\n",
      "  gxx_linux-64       conda-forge/linux-64::gxx_linux-64-7.3.0-h553295d_9\n",
      "  holidays           conda-forge/noarch::holidays-0.9.11-py_0\n",
      "  lunardate          conda-forge/noarch::lunardate-0.2.0-py_0\n",
      "  pystan             pkgs/main/linux-64::pystan-2.19.0.0-py37h962f231_0\n",
      "\n",
      "The following packages will be UPDATED:\n",
      "\n",
      "  conda                                       4.7.11-py37_0 --> 4.7.12-py37_0\n",
      "\n",
      "\n",
      "\n",
      "Downloading and Extracting Packages\n",
      "fbprophet-0.5        | 623 KB    | ##################################### | 100% \n",
      "pystan-2.19.0.0      | 12.1 MB   | ##################################### | 100% \n",
      "binutils_impl_linux- | 3.9 MB    | ##################################### | 100% \n",
      "binutils_linux-64-2. | 10 KB     | ##################################### | 100% \n",
      "gxx_linux-64-7.3.0   | 11 KB     | ##################################### | 100% \n",
      "lunardate-0.2.0      | 21 KB     | ##################################### | 100% \n",
      "gxx_impl_linux-64-7. | 18.7 MB   | ##################################### | 100% \n",
      "conda-4.7.12         | 3.0 MB    | ##################################### | 100% \n",
      "holidays-0.9.11      | 39 KB     | ##################################### | 100% \n",
      "ephem-3.7.7.0        | 756 KB    | ##################################### | 100% \n",
      "gcc_linux-64-7.3.0   | 11 KB     | ##################################### | 100% \n",
      "convertdate-2.1.3    | 30 KB     | ##################################### | 100% \n",
      "gcc_impl_linux-64-7. | 73.2 MB   | ##################################### | 100% \n",
      "Preparing transaction: done\n",
      "Verifying transaction: done\n",
      "Executing transaction: done\n"
     ]
    }
   ],
   "source": [
    "!conda install -y -c conda-forge fbprophet"
   ]
  },
  {
   "cell_type": "code",
   "execution_count": 1,
   "metadata": {},
   "outputs": [
    {
     "name": "stderr",
     "output_type": "stream",
     "text": [
      "INFO:matplotlib.font_manager:generated new fontManager\n",
      "ERROR:fbprophet:Importing plotly failed. Interactive plots will not work.\n"
     ]
    }
   ],
   "source": [
    "import fbprophet"
   ]
  },
  {
   "cell_type": "code",
   "execution_count": 2,
   "metadata": {},
   "outputs": [
    {
     "name": "stdout",
     "output_type": "stream",
     "text": [
      "Collecting package metadata (current_repodata.json): done\n",
      "Solving environment: done\n",
      "\n",
      "## Package Plan ##\n",
      "\n",
      "  environment location: /opt/anaconda3\n",
      "\n",
      "  added / updated specs:\n",
      "    - plotly==3.10.0\n",
      "\n",
      "\n",
      "The following packages will be downloaded:\n",
      "\n",
      "    package                    |            build\n",
      "    ---------------------------|-----------------\n",
      "    plotly-3.10.0              |             py_0        28.1 MB  plotly\n",
      "    retrying-1.3.3             |           py37_2          16 KB\n",
      "    ------------------------------------------------------------\n",
      "                                           Total:        28.1 MB\n",
      "\n",
      "The following NEW packages will be INSTALLED:\n",
      "\n",
      "  plotly             plotly/noarch::plotly-3.10.0-py_0\n",
      "  retrying           pkgs/main/linux-64::retrying-1.3.3-py37_2\n",
      "\n",
      "\n",
      "\n",
      "Downloading and Extracting Packages\n",
      "plotly-3.10.0        | 28.1 MB   | ##################################### | 100% \n",
      "retrying-1.3.3       | 16 KB     | ##################################### | 100% \n",
      "Preparing transaction: done\n",
      "Verifying transaction: done\n",
      "Executing transaction: done\n"
     ]
    }
   ],
   "source": [
    "!conda install -y -c plotly plotly==3.10.0"
   ]
  },
  {
   "cell_type": "code",
   "execution_count": 1,
   "metadata": {},
   "outputs": [],
   "source": [
    "import fbprophet"
   ]
  },
  {
   "cell_type": "code",
   "execution_count": 2,
   "metadata": {},
   "outputs": [],
   "source": [
    "import pystan"
   ]
  },
  {
   "cell_type": "code",
   "execution_count": 3,
   "metadata": {},
   "outputs": [
    {
     "data": {
      "text/plain": [
       "'0.5'"
      ]
     },
     "execution_count": 3,
     "metadata": {},
     "output_type": "execute_result"
    }
   ],
   "source": [
    "fbprophet.__version__"
   ]
  },
  {
   "cell_type": "code",
   "execution_count": 4,
   "metadata": {},
   "outputs": [
    {
     "data": {
      "text/plain": [
       "'2.19.0.0'"
      ]
     },
     "execution_count": 4,
     "metadata": {},
     "output_type": "execute_result"
    }
   ],
   "source": [
    "pystan.__version__"
   ]
  },
  {
   "cell_type": "code",
   "execution_count": 5,
   "metadata": {},
   "outputs": [
    {
     "name": "stdout",
     "output_type": "stream",
     "text": [
      "/bin/sh: 1: lsb_release: not found\r\n"
     ]
    }
   ],
   "source": [
    "!lsb_release -a"
   ]
  },
  {
   "cell_type": "code",
   "execution_count": 6,
   "metadata": {},
   "outputs": [
    {
     "name": "stdout",
     "output_type": "stream",
     "text": [
      "DISTRIB_ID=Ubuntu\r\n",
      "DISTRIB_RELEASE=18.04\r\n",
      "DISTRIB_CODENAME=bionic\r\n",
      "DISTRIB_DESCRIPTION=\"Ubuntu 18.04.3 LTS\"\r\n",
      "NAME=\"Ubuntu\"\r\n",
      "VERSION=\"18.04.3 LTS (Bionic Beaver)\"\r\n",
      "ID=ubuntu\r\n",
      "ID_LIKE=debian\r\n",
      "PRETTY_NAME=\"Ubuntu 18.04.3 LTS\"\r\n",
      "VERSION_ID=\"18.04\"\r\n",
      "HOME_URL=\"https://www.ubuntu.com/\"\r\n",
      "SUPPORT_URL=\"https://help.ubuntu.com/\"\r\n",
      "BUG_REPORT_URL=\"https://bugs.launchpad.net/ubuntu/\"\r\n",
      "PRIVACY_POLICY_URL=\"https://www.ubuntu.com/legal/terms-and-policies/privacy-policy\"\r\n",
      "VERSION_CODENAME=bionic\r\n",
      "UBUNTU_CODENAME=bionic\r\n"
     ]
    }
   ],
   "source": [
    "!cat /etc/*release"
   ]
  },
  {
   "cell_type": "code",
   "execution_count": null,
   "metadata": {},
   "outputs": [],
   "source": []
  }
 ],
 "metadata": {
  "kernelspec": {
   "display_name": "Python 3",
   "language": "python",
   "name": "python3"
  },
  "language_info": {
   "codemirror_mode": {
    "name": "ipython",
    "version": 3
   },
   "file_extension": ".py",
   "mimetype": "text/x-python",
   "name": "python",
   "nbconvert_exporter": "python",
   "pygments_lexer": "ipython3",
   "version": "3.7.3"
  }
 },
 "nbformat": 4,
 "nbformat_minor": 2
}
