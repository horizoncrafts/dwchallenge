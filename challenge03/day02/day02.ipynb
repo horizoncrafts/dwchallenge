{
 "cells": [
  {
   "cell_type": "code",
   "execution_count": 6,
   "metadata": {},
   "outputs": [],
   "source": [
    "from flask import Flask\n",
    "import eventlet.wsgi\n",
    "import eventlet\n",
    "import socketio\n",
    "import numpy as np\n",
    "\n",
    "import base64\n",
    "from PIL import Image\n",
    "from io import BytesIO\n",
    "\n",
    "import matplotlib.pyplot as plt\n",
    "\n",
    "from keras.models import load_model"
   ]
  },
  {
   "cell_type": "code",
   "execution_count": null,
   "metadata": {},
   "outputs": [],
   "source": [
    "!ls"
   ]
  },
  {
   "cell_type": "code",
   "execution_count": 7,
   "metadata": {},
   "outputs": [],
   "source": [
    "sio = socketio.Server()\n",
    "app = Flask(__name__)\n",
    "\n",
    "def send_control(steering_angle, throttle):\n",
    "    sio.emit(\"steer\", data={'steering_angle': str(steering_angle),\n",
    "                            'throttle': str(throttle) }, skip_sid=True)"
   ]
  },
  {
   "cell_type": "code",
   "execution_count": 4,
   "metadata": {},
   "outputs": [
    {
     "name": "stdout",
     "output_type": "stream",
     "text": [
      "WARNING:tensorflow:From /Users/piotr/anaconda3/lib/python3.6/site-packages/tensorflow/python/framework/op_def_library.py:263: colocate_with (from tensorflow.python.framework.ops) is deprecated and will be removed in a future version.\n",
      "Instructions for updating:\n",
      "Colocations handled automatically by placer.\n",
      "WARNING:tensorflow:From /Users/piotr/anaconda3/lib/python3.6/site-packages/keras/backend/tensorflow_backend.py:3445: calling dropout (from tensorflow.python.ops.nn_ops) with keep_prob is deprecated and will be removed in a future version.\n",
      "Instructions for updating:\n",
      "Please use `rate` instead of `keep_prob`. Rate should be set to `rate = 1 - keep_prob`.\n",
      "WARNING:tensorflow:From /Users/piotr/anaconda3/lib/python3.6/site-packages/tensorflow/python/ops/math_ops.py:3066: to_int32 (from tensorflow.python.ops.math_ops) is deprecated and will be removed in a future version.\n",
      "Instructions for updating:\n",
      "Use tf.cast instead.\n",
      "_________________________________________________________________\n",
      "Layer (type)                 Output Shape              Param #   \n",
      "=================================================================\n",
      "normalize (Lambda)           (None, 60, 80, 3)         0         \n",
      "_________________________________________________________________\n",
      "conv2d_28 (Conv2D)           (None, 58, 78, 64)        1792      \n",
      "_________________________________________________________________\n",
      "conv2d_29 (Conv2D)           (None, 56, 76, 32)        18464     \n",
      "_________________________________________________________________\n",
      "max_pooling2d_11 (MaxPooling (None, 28, 38, 32)        0         \n",
      "_________________________________________________________________\n",
      "conv2d_30 (Conv2D)           (None, 26, 36, 16)        4624      \n",
      "_________________________________________________________________\n",
      "max_pooling2d_12 (MaxPooling (None, 13, 18, 16)        0         \n",
      "_________________________________________________________________\n",
      "conv2d_31 (Conv2D)           (None, 11, 16, 8)         1160      \n",
      "_________________________________________________________________\n",
      "max_pooling2d_13 (MaxPooling (None, 5, 8, 8)           0         \n",
      "_________________________________________________________________\n",
      "dropout_7 (Dropout)          (None, 5, 8, 8)           0         \n",
      "_________________________________________________________________\n",
      "flatten_5 (Flatten)          (None, 320)               0         \n",
      "_________________________________________________________________\n",
      "dense_25 (Dense)             (None, 512)               164352    \n",
      "_________________________________________________________________\n",
      "dropout_8 (Dropout)          (None, 512)               0         \n",
      "_________________________________________________________________\n",
      "dense_26 (Dense)             (None, 512)               262656    \n",
      "_________________________________________________________________\n",
      "dropout_9 (Dropout)          (None, 512)               0         \n",
      "_________________________________________________________________\n",
      "dense_27 (Dense)             (None, 16)                8208      \n",
      "_________________________________________________________________\n",
      "dense_28 (Dense)             (None, 1)                 17        \n",
      "=================================================================\n",
      "Total params: 461,273\n",
      "Trainable params: 461,273\n",
      "Non-trainable params: 0\n",
      "_________________________________________________________________\n"
     ]
    }
   ],
   "source": [
    "model = load_model('../day05/mymodel.h5')\n",
    "model.summary()"
   ]
  },
  {
   "cell_type": "code",
   "execution_count": null,
   "metadata": {},
   "outputs": [
    {
     "name": "stderr",
     "output_type": "stream",
     "text": [
      "(39451) wsgi starting up on http://0.0.0.0:4567\n",
      "(39451) accepted ('127.0.0.1', 61807)\n",
      "(39451) accepted ('127.0.0.1', 61981)\n",
      "127.0.0.1 - - [17/May/2019 11:17:50] \"GET /socket.io/?EIO=4&transport=websocket HTTP/1.1\" 200 0 206.179813\n",
      "(39451) accepted ('127.0.0.1', 62116)\n",
      "127.0.0.1 - - [17/May/2019 11:19:57] \"GET /socket.io/?EIO=4&transport=websocket HTTP/1.1\" 200 0 183.558644\n",
      "127.0.0.1 - - [17/May/2019 11:22:11] \"GET /socket.io/?EIO=4&transport=websocket HTTP/1.1\" 200 0 189.214745\n"
     ]
    }
   ],
   "source": [
    "def process_image(img):\n",
    "    return img[ 10:130:2, ::4, : ]\n",
    "\n",
    "@sio.on('telemetry')\n",
    "def telemetry(sid, data):\n",
    "    if data:\n",
    "        \n",
    "        speed = float(data[\"speed\"])\n",
    "        image_str = data[\"image\"]\n",
    "\n",
    "        decoded = base64.b64decode(image_str)\n",
    "        image = Image.open(BytesIO(decoded))\n",
    "        image_array = np.asarray(image)\n",
    "        \n",
    "#        plt.imshow(image_array)\n",
    "#        plt.show()\n",
    "        \n",
    "#        print(image_array.shape)\n",
    "\n",
    "        img = process_image(image_array)\n",
    "        img_batch = np.expand_dims(img, axis=0)\n",
    "        \n",
    "        steering_angle = float(model.predict(img_batch))\n",
    "                           \n",
    "#        steering_angle = -1\n",
    "        throttle = 0.15\n",
    "    \n",
    "        if speed < 15:\n",
    "            throttle = 0.5\n",
    "        if speed > 17:\n",
    "            throttle = -0.1\n",
    "    \n",
    "\n",
    "        send_control(steering_angle, throttle)\n",
    "    else:\n",
    "        sio.emit('manual', data={}, skip_sid=True)\n",
    "        \n",
    "app = socketio.Middleware(sio, app)\n",
    "eventlet.wsgi.server(eventlet.listen(('', 4567)), app)\n"
   ]
  },
  {
   "cell_type": "code",
   "execution_count": null,
   "metadata": {},
   "outputs": [],
   "source": []
  }
 ],
 "metadata": {
  "kernelspec": {
   "display_name": "Python 3",
   "language": "python",
   "name": "python3"
  },
  "language_info": {
   "codemirror_mode": {
    "name": "ipython",
    "version": 3
   },
   "file_extension": ".py",
   "mimetype": "text/x-python",
   "name": "python",
   "nbconvert_exporter": "python",
   "pygments_lexer": "ipython3",
   "version": "3.6.8"
  }
 },
 "nbformat": 4,
 "nbformat_minor": 2
}
